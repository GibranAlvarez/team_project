{
 "cells": [
  {
   "cell_type": "markdown",
   "metadata": {},
   "source": [
    "## CLEANING BASE IMMIGRATION DATA"
   ]
  },
  {
   "cell_type": "code",
   "execution_count": 162,
   "metadata": {},
   "outputs": [
    {
     "name": "stdout",
     "output_type": "stream",
     "text": [
      "  REF_DATE                   GEO           DGUID  \\\n",
      "0  1946-01                Canada  2016A000011124   \n",
      "1  1946-01  Prince Edward Island     2016A000211   \n",
      "2  1946-01           Nova Scotia     2016A000212   \n",
      "3  1946-01         New Brunswick     2016A000213   \n",
      "4  1946-01                Quebec     2016A000224   \n",
      "\n",
      "  Components of population growth      UOM  UOM_ID SCALAR_FACTOR  SCALAR_ID  \\\n",
      "0                      Immigrants  Persons     249         units          0   \n",
      "1                      Immigrants  Persons     249         units          0   \n",
      "2                      Immigrants  Persons     249         units          0   \n",
      "3                      Immigrants  Persons     249         units          0   \n",
      "4                      Immigrants  Persons     249         units          0   \n",
      "\n",
      "      VECTOR  COORDINATE    VALUE STATUS  SYMBOL  TERMINATED  DECIMALS  \n",
      "0  v29850342         1.1  12738.0    NaN     NaN         NaN         0  \n",
      "1  v29850352         3.1     73.0    NaN     NaN         NaN         0  \n",
      "2  v29850357         4.1    701.0    NaN     NaN         NaN         0  \n",
      "3  v29850362         5.1    520.0    NaN     NaN         NaN         0  \n",
      "4  v29850367         6.1   2305.0    NaN     NaN         NaN         0  \n"
     ]
    }
   ],
   "source": [
    "import pandas as pd\n",
    "\n",
    "immigration_df = pd.read_csv(\"Immigration_data.csv\")\n",
    "print(immigration_df.head())"
   ]
  },
  {
   "cell_type": "code",
   "execution_count": 163,
   "metadata": {},
   "outputs": [
    {
     "name": "stdout",
     "output_type": "stream",
     "text": [
      "list of unique UOM values ['Persons']\n",
      "list of unique Components_of_population_growth_Unique values ['Emigrants', 'Immigrants', 'Net emigration', 'Net non-permanent residents', 'Net temporary emigration', 'Non-permanent residents, inflows', 'Non-permanent residents, outflows', 'Returning emigrants']\n",
      "list of unique STATUS values [nan '..']\n",
      "list of unique SCALAR_FACTOR values ['units']\n"
     ]
    }
   ],
   "source": [
    "# Explore values in columns with ambiguous meaning\n",
    "UOM_Unique = immigration_df['UOM'].unique()\n",
    "Components_of_population_growth_Unique = immigration_df['Components of population growth'].unique()\n",
    "status_unique = immigration_df['STATUS'].unique()\n",
    "scalar_factor_unique = immigration_df['SCALAR_FACTOR'].unique()\n",
    "\n",
    "\n",
    "print(f\"list of unique UOM values\", sorted(UOM_Unique)) # Eliminate Column\n",
    "print(f\"list of unique Components_of_population_growth_Unique values\", sorted(Components_of_population_growth_Unique)) # Keep Column\n",
    "print(f\"list of unique STATUS values\", (status_unique)) # Eliminate Column\n",
    "print(f\"list of unique SCALAR_FACTOR values\", (scalar_factor_unique)) # Eliminate Column "
   ]
  },
  {
   "cell_type": "markdown",
   "metadata": {},
   "source": []
  },
  {
   "cell_type": "code",
   "execution_count": 164,
   "metadata": {},
   "outputs": [],
   "source": [
    "# The columns identified below are not necessary for our analysis and will be dropped from the dataframe\n",
    "immigration_df_dropped = immigration_df.drop(columns=['DGUID','UOM','UOM_ID','SCALAR_FACTOR','SCALAR_ID','VECTOR','COORDINATE','STATUS','SYMBOL','TERMINATED','DECIMALS'])\n",
    "immigration_df = immigration_df_dropped.rename(columns={'GEO':'province','Components of population growth':'immigration_category','VALUE':'num_people'})"
   ]
  },
  {
   "cell_type": "code",
   "execution_count": 165,
   "metadata": {},
   "outputs": [
    {
     "name": "stdout",
     "output_type": "stream",
     "text": [
      "  REF_DATE              province immigration_category  num_people\n",
      "1  1946-01  Prince Edward Island           Immigrants        73.0\n",
      "2  1946-01           Nova Scotia           Immigrants       701.0\n",
      "3  1946-01         New Brunswick           Immigrants       520.0\n",
      "4  1946-01                Quebec           Immigrants      2305.0\n",
      "5  1946-01               Ontario           Immigrants      5319.0\n"
     ]
    },
    {
     "data": {
      "text/plain": [
       "19607"
      ]
     },
     "execution_count": 165,
     "metadata": {},
     "output_type": "execute_result"
    }
   ],
   "source": [
    "# Create provincial dataframe by eliminating results for Canada\n",
    "prov_immigration_df = immigration_df[immigration_df.province !='Canada']\n",
    "print(prov_immigration_df.head())\n",
    "\n",
    "# Check how many records are in the dataset\n",
    "len(prov_immigration_df.index)"
   ]
  },
  {
   "cell_type": "code",
   "execution_count": 166,
   "metadata": {},
   "outputs": [
    {
     "data": {
      "text/plain": [
       "9200"
      ]
     },
     "execution_count": 166,
     "metadata": {},
     "output_type": "execute_result"
    }
   ],
   "source": [
    "# Keep only the rows with 'Immigrants','Net emigration', or 'Net non-permanent residents' in the immigration_category column. The values in this column are captured in \n",
    "# these 3 aggregations\n",
    "prov_immigration_df = prov_immigration_df.loc[prov_immigration_df['immigration_category'].isin(['Immigrants','Net emigration','Net non-permanent residents'])]\n",
    "\n",
    "# Check how many records are in the dataset after clean\n",
    "len(prov_immigration_df.index)"
   ]
  },
  {
   "cell_type": "code",
   "execution_count": 167,
   "metadata": {},
   "outputs": [
    {
     "name": "stdout",
     "output_type": "stream",
     "text": [
      "      REF_DATE               province         immigration_category  num_people\n",
      "1         1946   Prince Edward Island                   Immigrants        73.0\n",
      "2         1946            Nova Scotia                   Immigrants       701.0\n",
      "3         1946          New Brunswick                   Immigrants       520.0\n",
      "4         1946                 Quebec                   Immigrants      2305.0\n",
      "5         1946                Ontario                   Immigrants      5319.0\n",
      "...        ...                    ...                          ...         ...\n",
      "21148     2024  Northwest Territories               Net emigration        -1.0\n",
      "21151     2024  Northwest Territories  Net non-permanent residents        94.0\n",
      "21154     2024                Nunavut                   Immigrants         9.0\n",
      "21155     2024                Nunavut               Net emigration         0.0\n",
      "21158     2024                Nunavut  Net non-permanent residents        12.0\n",
      "\n",
      "[9200 rows x 4 columns]\n"
     ]
    }
   ],
   "source": [
    "# Change Ref Date to reflect years only to prepare for year-by-year aggregation\n",
    "prov_immigration_df[\"REF_DATE\"] = pd.to_datetime(prov_immigration_df[\"REF_DATE\"]).dt.strftime('%Y')\n",
    "\n",
    "print(prov_immigration_df)"
   ]
  },
  {
   "cell_type": "code",
   "execution_count": 168,
   "metadata": {},
   "outputs": [
    {
     "name": "stdout",
     "output_type": "stream",
     "text": [
      "                                                                              num_people\n",
      "REF_DATE province                                immigration_category                   \n",
      "1946     Alberta                                 Immigrants                       5771.0\n",
      "         British Columbia                        Immigrants                       8619.0\n",
      "         Manitoba                                Immigrants                       4615.0\n",
      "         New Brunswick                           Immigrants                       3465.0\n",
      "         Northwest Territories including Nunavut Immigrants                         21.0\n",
      "...                                                                                  ...\n",
      "2024     Saskatchewan                            Net emigration                    288.0\n",
      "                                                 Net non-permanent residents      1033.0\n",
      "         Yukon                                   Immigrants                        297.0\n",
      "                                                 Net emigration                     13.0\n",
      "                                                 Net non-permanent residents         0.0\n",
      "\n",
      "[2346 rows x 1 columns]\n"
     ]
    }
   ],
   "source": [
    "# Group by 'REF_DATE','province',and 'immigration_category' and aggregate num people values\n",
    "prov_immigration_df = prov_immigration_df.groupby(['REF_DATE','province','immigration_category']).agg({'num_people':'sum'})\n",
    "print(prov_immigration_df)"
   ]
  },
  {
   "cell_type": "code",
   "execution_count": 169,
   "metadata": {},
   "outputs": [
    {
     "name": "stdout",
     "output_type": "stream",
     "text": [
      "     REF_DATE                                 province  \\\n",
      "0        1946                                  Alberta   \n",
      "1        1946                         British Columbia   \n",
      "2        1946                                 Manitoba   \n",
      "3        1946                            New Brunswick   \n",
      "4        1946  Northwest Territories including Nunavut   \n",
      "...       ...                                      ...   \n",
      "2341     2024                             Saskatchewan   \n",
      "2342     2024                             Saskatchewan   \n",
      "2343     2024                                    Yukon   \n",
      "2344     2024                                    Yukon   \n",
      "2345     2024                                    Yukon   \n",
      "\n",
      "             immigration_category  num_people  \n",
      "0                      Immigrants      5771.0  \n",
      "1                      Immigrants      8619.0  \n",
      "2                      Immigrants      4615.0  \n",
      "3                      Immigrants      3465.0  \n",
      "4                      Immigrants        21.0  \n",
      "...                           ...         ...  \n",
      "2341               Net emigration       288.0  \n",
      "2342  Net non-permanent residents      1033.0  \n",
      "2343                   Immigrants       297.0  \n",
      "2344               Net emigration        13.0  \n",
      "2345  Net non-permanent residents         0.0  \n",
      "\n",
      "[2346 rows x 4 columns]\n"
     ]
    }
   ],
   "source": [
    "# Rename Axis and reset index to flatten table out\n",
    "prov_immigration_df = prov_immigration_df.rename_axis(columns=None).reset_index()\n",
    "print(prov_immigration_df)"
   ]
  },
  {
   "cell_type": "code",
   "execution_count": 170,
   "metadata": {},
   "outputs": [
    {
     "name": "stdout",
     "output_type": "stream",
     "text": [
      "immigration_category                              Immigrants  Net emigration  \\\n",
      "REF_DATE province                                                              \n",
      "1946     Alberta                                      5771.0             NaN   \n",
      "         British Columbia                             8619.0             NaN   \n",
      "         Manitoba                                     4615.0             NaN   \n",
      "         New Brunswick                                3465.0             NaN   \n",
      "         Northwest Territories including Nunavut        21.0             NaN   \n",
      "...                                                      ...             ...   \n",
      "2024     Ontario                                     52781.0          5783.0   \n",
      "         Prince Edward Island                         1330.0            24.0   \n",
      "         Quebec                                      13369.0          1544.0   \n",
      "         Saskatchewan                                 5611.0           288.0   \n",
      "         Yukon                                         297.0            13.0   \n",
      "\n",
      "immigration_category                              Net non-permanent residents  \n",
      "REF_DATE province                                                              \n",
      "1946     Alberta                                                          NaN  \n",
      "         British Columbia                                                 NaN  \n",
      "         Manitoba                                                         NaN  \n",
      "         New Brunswick                                                    NaN  \n",
      "         Northwest Territories including Nunavut                          NaN  \n",
      "...                                                                       ...  \n",
      "2024     Ontario                                                      45724.0  \n",
      "         Prince Edward Island                                          -338.0  \n",
      "         Quebec                                                       36966.0  \n",
      "         Saskatchewan                                                  1033.0  \n",
      "         Yukon                                                            0.0  \n",
      "\n",
      "[980 rows x 3 columns]\n"
     ]
    }
   ],
   "source": [
    "# Pivot the immigration_category column to create a separate column for each value there with its corresponding num_people value underneath\n",
    "prov_immigration_df = prov_immigration_df.pivot(index=['REF_DATE', 'province'], columns='immigration_category',values='num_people')\n",
    "print(prov_immigration_df)"
   ]
  },
  {
   "cell_type": "code",
   "execution_count": 171,
   "metadata": {},
   "outputs": [
    {
     "name": "stdout",
     "output_type": "stream",
     "text": [
      "    REF_DATE                                 province  Immigrants  \\\n",
      "0       1946                                  Alberta      5771.0   \n",
      "1       1946                         British Columbia      8619.0   \n",
      "2       1946                                 Manitoba      4615.0   \n",
      "3       1946                            New Brunswick      3465.0   \n",
      "4       1946  Northwest Territories including Nunavut        21.0   \n",
      "..       ...                                      ...         ...   \n",
      "975     2024                                  Ontario     52781.0   \n",
      "976     2024                     Prince Edward Island      1330.0   \n",
      "977     2024                                   Quebec     13369.0   \n",
      "978     2024                             Saskatchewan      5611.0   \n",
      "979     2024                                    Yukon       297.0   \n",
      "\n",
      "     Net emigration  Net non-permanent residents  \n",
      "0               NaN                          NaN  \n",
      "1               NaN                          NaN  \n",
      "2               NaN                          NaN  \n",
      "3               NaN                          NaN  \n",
      "4               NaN                          NaN  \n",
      "..              ...                          ...  \n",
      "975          5783.0                      45724.0  \n",
      "976            24.0                       -338.0  \n",
      "977          1544.0                      36966.0  \n",
      "978           288.0                       1033.0  \n",
      "979            13.0                          0.0  \n",
      "\n",
      "[980 rows x 5 columns]\n"
     ]
    }
   ],
   "source": [
    "# Rename Axis and reset index to flatten table out\n",
    "prov_immigration_df = prov_immigration_df.rename_axis(columns=None).reset_index()\n",
    "print(prov_immigration_df)"
   ]
  },
  {
   "cell_type": "markdown",
   "metadata": {},
   "source": [
    "## CLEAN WAGES DATA"
   ]
  },
  {
   "cell_type": "code",
   "execution_count": 172,
   "metadata": {},
   "outputs": [
    {
     "name": "stdout",
     "output_type": "stream",
     "text": [
      "         REF_DATE      GEO           DGUID  \\\n",
      "0         2001-01   Canada  2021A000011124   \n",
      "1         2001-01   Canada  2021A000011124   \n",
      "2         2001-01   Canada  2021A000011124   \n",
      "3         2001-01   Canada  2021A000011124   \n",
      "4         2001-01   Canada  2021A000011124   \n",
      "...           ...      ...             ...   \n",
      "23037583  2024-03  Nunavut     2021A000262   \n",
      "23037584  2024-03  Nunavut     2021A000262   \n",
      "23037585  2024-03  Nunavut     2021A000262   \n",
      "23037586  2024-03  Nunavut     2021A000262   \n",
      "23037587  2024-03  Nunavut     2021A000262   \n",
      "\n",
      "                                                   Estimate  \\\n",
      "0                              Employment for all employees   \n",
      "1                              Employment for all employees   \n",
      "2                              Employment for all employees   \n",
      "3                              Employment for all employees   \n",
      "4                              Employment for all employees   \n",
      "...                                                     ...   \n",
      "23037583  Average weekly earnings including overtime for...   \n",
      "23037584  Average weekly earnings including overtime for...   \n",
      "23037585  Average weekly earnings including overtime for...   \n",
      "23037586  Average weekly earnings including overtime for...   \n",
      "23037587  Average weekly earnings including overtime for...   \n",
      "\n",
      "         North American Industry Classification System (NAICS)  \\\n",
      "0         Industrial aggregate including unclassified bu...      \n",
      "1         Industrial aggregate including unclassified bu...      \n",
      "2         Industrial aggregate including unclassified bu...      \n",
      "3         Industrial aggregate including unclassified bu...      \n",
      "4         Industrial aggregate including unclassified bu...      \n",
      "...                                                     ...      \n",
      "23037583                         Public administration [91]      \n",
      "23037584                         Public administration [91]      \n",
      "23037585                         Public administration [91]      \n",
      "23037586                         Public administration [91]      \n",
      "23037587                         Public administration [91]      \n",
      "\n",
      "                    Release      UOM  UOM_ID SCALAR_FACTOR  SCALAR_ID  \\\n",
      "0              May 30, 2024  Persons     249         units          0   \n",
      "1            April 25, 2024  Persons     249         units          0   \n",
      "2            March 28, 2024  Persons     249         units          0   \n",
      "3         February 28, 2024  Persons     249         units          0   \n",
      "4          January 25, 2024  Persons     249         units          0   \n",
      "...                     ...      ...     ...           ...        ...   \n",
      "23037583      July 30, 2015  Dollars      81         units          0   \n",
      "23037584      June 25, 2015  Dollars      81         units          0   \n",
      "23037585       May 29, 2015  Dollars      81         units          0   \n",
      "23037586     April 30, 2015  Dollars      81         units          0   \n",
      "23037587     March 31, 2015  Dollars      81         units          0   \n",
      "\n",
      "               VECTOR  COORDINATE       VALUE STATUS  SYMBOL  TERMINATED  \\\n",
      "0         v1592275780   1.1.1.111  12918423.0    NaN     NaN         NaN   \n",
      "1         v1589401432   1.1.1.110  12918423.0    NaN     NaN         NaN   \n",
      "2         v1586728621   1.1.1.109  12918423.0    NaN     NaN         NaN   \n",
      "3         v1582467320   1.1.1.108  12914390.0    NaN     NaN         NaN   \n",
      "4         v1579557781   1.1.1.107  12914390.0    NaN     NaN         NaN   \n",
      "...               ...         ...         ...    ...     ...         ...   \n",
      "23037583    v98437490  15.2.393.5         NaN     ..     NaN         NaN   \n",
      "23037584    v97863762  15.2.393.4         NaN     ..     NaN         NaN   \n",
      "23037585    v96596597  15.2.393.3         NaN     ..     NaN         NaN   \n",
      "23037586    v96572945  15.2.393.2         NaN     ..     NaN         NaN   \n",
      "23037587    v96530993  15.2.393.1         NaN     ..     NaN         NaN   \n",
      "\n",
      "          DECIMALS  \n",
      "0                0  \n",
      "1                0  \n",
      "2                0  \n",
      "3                0  \n",
      "4                0  \n",
      "...            ...  \n",
      "23037583         2  \n",
      "23037584         2  \n",
      "23037585         2  \n",
      "23037586         2  \n",
      "23037587         2  \n",
      "\n",
      "[23037588 rows x 17 columns]\n"
     ]
    }
   ],
   "source": [
    "# Import wage data\n",
    "\n",
    "wage_df = pd.read_csv(\"Wage_Data.csv\")\n",
    "print(wage_df)"
   ]
  },
  {
   "cell_type": "code",
   "execution_count": 173,
   "metadata": {},
   "outputs": [
    {
     "name": "stdout",
     "output_type": "stream",
     "text": [
      "list of unique estimate ['Average weekly earnings including overtime for all employees', 'Employment for all employees']\n",
      "list of unique NAICS ['Accommodation and food services [72]', 'Administrative and support, waste management and remediation services [56]', 'Arts, entertainment and recreation [71]', 'Construction [23]', 'Durable goods [321N]', 'Educational services [61]', 'Finance and insurance [52]', 'Forestry, logging and support [11N]', 'Goods producing industries [11-33N]', 'Health care and social assistance [62]', 'Industrial aggregate excluding unclassified businesses [11-91N]', 'Industrial aggregate including unclassified businesses [00-91N]', 'Information and cultural industries [51]', 'Management of companies and enterprises [55]', 'Manufacturing [31-33]', 'Mining, quarrying, and oil and gas extraction [21]', 'Non-durable goods [311N]', 'Other services (except public administration) [81]', 'Professional, scientific and technical services [54]', 'Public administration [91]', 'Real estate and rental and leasing [53]', 'Retail trade [44-45]', 'Service producing industries [41-91N]', 'Trade [41-45N]', 'Transportation and warehousing [48-49]', 'Utilities [22]', 'Wholesale trade [41]']\n",
      "list of unique UOM values ['Persons' 'Dollars']\n",
      "list of unique STATUS values [nan 'x' '..' 'A' 'B' 'F' 'C' 'D' 'E']\n"
     ]
    }
   ],
   "source": [
    "# Explore values in columns with ambiguous meaning\n",
    "estimate_Unique = wage_df['Estimate'].unique()\n",
    "NAICS_Unique = wage_df['North American Industry Classification System (NAICS)'].unique()\n",
    "UOM_unique = wage_df['UOM'].unique()\n",
    "status_unique = wage_df['STATUS'].unique()\n",
    "\n",
    "\n",
    "print(f\"list of unique estimate\", sorted(estimate_Unique)) # Eliminate Column\n",
    "print(f\"list of unique NAICS\", sorted(NAICS_Unique)) # Keep Column\n",
    "print(f\"list of unique UOM values\", (UOM_unique)) # Eliminate Column\n",
    "print(f\"list of unique STATUS values\", (status_unique)) # Eliminate Column "
   ]
  },
  {
   "cell_type": "code",
   "execution_count": 174,
   "metadata": {},
   "outputs": [],
   "source": [
    "# We are only interested in the distinct provinces so we don't need to see canadian values\n",
    "wage_df = wage_df[wage_df.GEO !='Canada']\n",
    "\n",
    "# We are only interested in weekly earnings so we don't need to see aggregated earings for all employees\n",
    "wage_df = wage_df[wage_df.Estimate !='Employment for all employees']"
   ]
  },
  {
   "cell_type": "code",
   "execution_count": 175,
   "metadata": {},
   "outputs": [
    {
     "name": "stdout",
     "output_type": "stream",
     "text": [
      "         REF_DATE                   province  weekly_wage\n",
      "8895      2001-01  Newfoundland and Labrador          NaN\n",
      "8896      2001-01  Newfoundland and Labrador          NaN\n",
      "8897      2001-01  Newfoundland and Labrador          NaN\n",
      "8898      2001-01  Newfoundland and Labrador          NaN\n",
      "8899      2001-01  Newfoundland and Labrador          NaN\n",
      "...           ...                        ...          ...\n",
      "23037583  2024-03                    Nunavut          NaN\n",
      "23037584  2024-03                    Nunavut          NaN\n",
      "23037585  2024-03                    Nunavut          NaN\n",
      "23037586  2024-03                    Nunavut          NaN\n",
      "23037587  2024-03                    Nunavut          NaN\n",
      "\n",
      "[10521927 rows x 3 columns]\n"
     ]
    }
   ],
   "source": [
    "# The columns identified below are not necessary for our analysis and will be dropped from the dataframe\n",
    "wage_df = wage_df.drop(columns=['DGUID','Estimate','UOM','UOM_ID','SCALAR_FACTOR','SCALAR_ID','VECTOR','COORDINATE','STATUS','SYMBOL','TERMINATED','DECIMALS','Release','North American Industry Classification System (NAICS)'])\n",
    "wage_df = wage_df.rename(columns={'GEO':'province','Components of population growth':'immigration_category','VALUE':'weekly_wage'})\n",
    "print(wage_df)"
   ]
  },
  {
   "cell_type": "code",
   "execution_count": 176,
   "metadata": {},
   "outputs": [
    {
     "name": "stdout",
     "output_type": "stream",
     "text": [
      "     REF_DATE                   province  weekly_wage\n",
      "8895     2001  Newfoundland and Labrador          NaN\n",
      "8896     2001  Newfoundland and Labrador          NaN\n",
      "8897     2001  Newfoundland and Labrador          NaN\n",
      "8898     2001  Newfoundland and Labrador          NaN\n",
      "8899     2001  Newfoundland and Labrador          NaN\n",
      "8900     2001  Newfoundland and Labrador          NaN\n",
      "8901     2001  Newfoundland and Labrador          NaN\n",
      "8902     2001  Newfoundland and Labrador          NaN\n",
      "8903     2001  Newfoundland and Labrador          NaN\n",
      "8904     2001  Newfoundland and Labrador          NaN\n",
      "8905     2001  Newfoundland and Labrador          NaN\n",
      "8906     2001  Newfoundland and Labrador          NaN\n",
      "8907     2001  Newfoundland and Labrador          NaN\n",
      "8908     2001  Newfoundland and Labrador          NaN\n",
      "8909     2001  Newfoundland and Labrador          NaN\n",
      "8910     2001  Newfoundland and Labrador       593.60\n",
      "8911     2001  Newfoundland and Labrador       593.60\n",
      "8912     2001  Newfoundland and Labrador       593.60\n",
      "8913     2001  Newfoundland and Labrador       593.75\n",
      "8914     2001  Newfoundland and Labrador       593.75\n",
      "8915     2001  Newfoundland and Labrador       593.75\n",
      "8916     2001  Newfoundland and Labrador       593.75\n",
      "8917     2001  Newfoundland and Labrador       593.75\n",
      "8918     2001  Newfoundland and Labrador       593.75\n",
      "8919     2001  Newfoundland and Labrador       593.75\n",
      "8920     2001  Newfoundland and Labrador       593.75\n",
      "8921     2001  Newfoundland and Labrador       593.75\n",
      "8922     2001  Newfoundland and Labrador       593.75\n",
      "8923     2001  Newfoundland and Labrador       593.75\n",
      "8924     2001  Newfoundland and Labrador       593.75\n",
      "8925     2001  Newfoundland and Labrador       593.75\n",
      "8926     2001  Newfoundland and Labrador       593.75\n",
      "8927     2001  Newfoundland and Labrador       593.75\n",
      "8928     2001  Newfoundland and Labrador       593.75\n",
      "8929     2001  Newfoundland and Labrador       593.75\n",
      "8930     2001  Newfoundland and Labrador       593.75\n",
      "8931     2001  Newfoundland and Labrador       593.75\n",
      "8932     2001  Newfoundland and Labrador       593.75\n",
      "8933     2001  Newfoundland and Labrador       593.75\n",
      "8934     2001  Newfoundland and Labrador       593.75\n",
      "8935     2001  Newfoundland and Labrador       593.75\n",
      "8936     2001  Newfoundland and Labrador       593.75\n",
      "8937     2001  Newfoundland and Labrador       593.75\n",
      "8938     2001  Newfoundland and Labrador       593.75\n",
      "8939     2001  Newfoundland and Labrador       593.75\n",
      "8940     2001  Newfoundland and Labrador       593.75\n",
      "8941     2001  Newfoundland and Labrador       593.75\n",
      "8942     2001  Newfoundland and Labrador       593.75\n",
      "8943     2001  Newfoundland and Labrador       593.75\n",
      "8944     2001  Newfoundland and Labrador       593.75\n"
     ]
    }
   ],
   "source": [
    "# Change Ref Date to reflect years only to prepare for year-by-year aggregation\n",
    "wage_df[\"REF_DATE\"] = pd.to_datetime(wage_df[\"REF_DATE\"]).dt.strftime('%Y')\n",
    "print(wage_df.head(50))"
   ]
  },
  {
   "cell_type": "code",
   "execution_count": 177,
   "metadata": {},
   "outputs": [
    {
     "name": "stdout",
     "output_type": "stream",
     "text": [
      "                                    weekly_wage\n",
      "REF_DATE province                              \n",
      "2001     Alberta                     714.613068\n",
      "         British Columbia            717.266610\n",
      "         Manitoba                    637.593449\n",
      "         New Brunswick               625.547939\n",
      "         Newfoundland and Labrador   634.622101\n",
      "...                                         ...\n",
      "2024     Ontario                    1357.052778\n",
      "         Prince Edward Island       1064.517750\n",
      "         Quebec                     1278.014931\n",
      "         Saskatchewan               1245.763939\n",
      "         Yukon                      1346.276220\n",
      "\n",
      "[312 rows x 1 columns]\n"
     ]
    }
   ],
   "source": [
    "# Group by 'REF_DATE','province',and 'immigration_category' and aggregate num people values\n",
    "wage_df = wage_df.groupby(['REF_DATE','province']).agg({'weekly_wage':'mean'})\n",
    "print(wage_df)"
   ]
  },
  {
   "cell_type": "code",
   "execution_count": 178,
   "metadata": {},
   "outputs": [
    {
     "name": "stdout",
     "output_type": "stream",
     "text": [
      "   REF_DATE                   province  weekly_wage\n",
      "0      2001                    Alberta   714.613068\n",
      "1      2001           British Columbia   717.266610\n",
      "2      2001                   Manitoba   637.593449\n",
      "3      2001              New Brunswick   625.547939\n",
      "4      2001  Newfoundland and Labrador   634.622101\n",
      "5      2001      Northwest Territories   784.901499\n",
      "6      2001                Nova Scotia   584.924018\n",
      "7      2001                    Nunavut   690.123102\n",
      "8      2001                    Ontario   741.539837\n",
      "9      2001       Prince Edward Island   537.194820\n",
      "10     2001                     Quebec   667.158953\n",
      "11     2001               Saskatchewan   648.096357\n",
      "12     2001                      Yukon   706.977970\n",
      "13     2002                    Alberta   745.154624\n",
      "14     2002           British Columbia   736.926552\n",
      "15     2002                   Manitoba   656.486334\n",
      "16     2002              New Brunswick   645.799215\n",
      "17     2002  Newfoundland and Labrador   661.573347\n",
      "18     2002      Northwest Territories   820.419167\n",
      "19     2002                Nova Scotia   601.876863\n",
      "20     2002                    Nunavut   737.534755\n",
      "21     2002                    Ontario   762.124986\n",
      "22     2002       Prince Edward Island   581.105601\n",
      "23     2002                     Quebec   683.963953\n",
      "24     2002               Saskatchewan   664.656928\n",
      "25     2002                      Yukon   734.755448\n",
      "26     2003                    Alberta   768.020420\n",
      "27     2003           British Columbia   755.873697\n",
      "28     2003                   Manitoba   629.021779\n",
      "29     2003              New Brunswick   621.084510\n",
      "30     2003  Newfoundland and Labrador   633.056380\n",
      "31     2003      Northwest Territories   877.779067\n",
      "32     2003                Nova Scotia   619.482393\n",
      "33     2003                    Nunavut   814.696728\n",
      "34     2003                    Ontario   783.838216\n",
      "35     2003       Prince Edward Island   579.014512\n",
      "36     2003                     Quebec   703.525161\n",
      "37     2003               Saskatchewan   689.994518\n",
      "38     2003                      Yukon   728.298350\n",
      "39     2004                    Alberta   790.743425\n",
      "40     2004           British Columbia   777.787772\n",
      "41     2004                   Manitoba   654.478687\n",
      "42     2004              New Brunswick   628.326596\n",
      "43     2004  Newfoundland and Labrador   684.347470\n",
      "44     2004      Northwest Territories   870.033934\n",
      "45     2004                Nova Scotia   638.194842\n",
      "46     2004                    Nunavut   814.993517\n",
      "47     2004                    Ontario   806.665556\n",
      "48     2004       Prince Edward Island   595.382576\n",
      "49     2004                     Quebec   720.032875\n"
     ]
    }
   ],
   "source": [
    "# Rename Axis and reset index to flatten table out\n",
    "wage_df = wage_df.rename_axis(columns=None).reset_index()\n",
    "print(wage_df.head(50))"
   ]
  },
  {
   "cell_type": "markdown",
   "metadata": {},
   "source": [
    "## MERGE DATAFRAMES INTO TABLE READY FOR MODELLING"
   ]
  },
  {
   "cell_type": "code",
   "execution_count": 179,
   "metadata": {},
   "outputs": [
    {
     "data": {
      "text/plain": [
       "(980, 5)"
      ]
     },
     "execution_count": 179,
     "metadata": {},
     "output_type": "execute_result"
    }
   ],
   "source": [
    "# Check the shape of the immigration table to see how many rows there are \n",
    "prov_immigration_df.shape"
   ]
  },
  {
   "cell_type": "code",
   "execution_count": 180,
   "metadata": {},
   "outputs": [
    {
     "data": {
      "text/plain": [
       "(312, 3)"
      ]
     },
     "execution_count": 180,
     "metadata": {},
     "output_type": "execute_result"
    }
   ],
   "source": [
    "# Check the shape of the wages table to see how many rows there are \n",
    "wage_df.shape"
   ]
  },
  {
   "cell_type": "code",
   "execution_count": 181,
   "metadata": {},
   "outputs": [
    {
     "name": "stdout",
     "output_type": "stream",
     "text": [
      "    REF_DATE                   province  Immigrants  Net emigration  \\\n",
      "0       2001                    Alberta     16406.0          6343.0   \n",
      "1       2001           British Columbia     38484.0         13945.0   \n",
      "2       2001                   Manitoba      4592.0          1340.0   \n",
      "3       2001              New Brunswick       798.0           857.0   \n",
      "4       2001  Newfoundland and Labrador       392.0           465.0   \n",
      "..       ...                        ...         ...             ...   \n",
      "307     2024                    Ontario     52781.0          5783.0   \n",
      "308     2024       Prince Edward Island      1330.0            24.0   \n",
      "309     2024                     Quebec     13369.0          1544.0   \n",
      "310     2024               Saskatchewan      5611.0           288.0   \n",
      "311     2024                      Yukon       297.0            13.0   \n",
      "\n",
      "     Net non-permanent residents  weekly_wage  \n",
      "0                         4513.0   714.613068  \n",
      "1                         9626.0   717.266610  \n",
      "2                          658.0   637.593449  \n",
      "3                          438.0   625.547939  \n",
      "4                          -56.0   634.622101  \n",
      "..                           ...          ...  \n",
      "307                      45724.0  1357.052778  \n",
      "308                       -338.0  1064.517750  \n",
      "309                      36966.0  1278.014931  \n",
      "310                       1033.0  1245.763939  \n",
      "311                          0.0  1346.276220  \n",
      "\n",
      "[312 rows x 6 columns]\n"
     ]
    }
   ],
   "source": [
    "# Merge tables on the combination of REF_DATE and province. The combination of these will produce a unique key in either table for a 1-1 relationship.\n",
    "# The standard behaviour of merge is inner join, which works well for us. We can predict that, with an inner join, we will have as many columns as the smaller of the two tables\n",
    "# in our new merged table\n",
    "imm_wage_merge_df = pd.merge(prov_immigration_df, wage_df, on=['REF_DATE','province'])\n",
    "print(imm_wage_merge_df)"
   ]
  },
  {
   "cell_type": "code",
   "execution_count": 182,
   "metadata": {},
   "outputs": [
    {
     "name": "stdout",
     "output_type": "stream",
     "text": [
      "    REF_DATE                   province  Immigrants  Net emigration  \\\n",
      "0       2001                    Alberta     16406.0          6343.0   \n",
      "1       2001           British Columbia     38484.0         13945.0   \n",
      "2       2001                   Manitoba      4592.0          1340.0   \n",
      "3       2001              New Brunswick       798.0           857.0   \n",
      "4       2001  Newfoundland and Labrador       392.0           465.0   \n",
      "..       ...                        ...         ...             ...   \n",
      "307     2024                    Ontario     52781.0          5783.0   \n",
      "308     2024       Prince Edward Island      1330.0            24.0   \n",
      "309     2024                     Quebec     13369.0          1544.0   \n",
      "310     2024               Saskatchewan      5611.0           288.0   \n",
      "311     2024                      Yukon       297.0            13.0   \n",
      "\n",
      "     Net non-permanent residents  weekly_wage  \n",
      "0                         4513.0   714.613068  \n",
      "1                         9626.0   717.266610  \n",
      "2                          658.0   637.593449  \n",
      "3                          438.0   625.547939  \n",
      "4                          -56.0   634.622101  \n",
      "..                           ...          ...  \n",
      "307                      45724.0  1357.052778  \n",
      "308                       -338.0  1064.517750  \n",
      "309                      36966.0  1278.014931  \n",
      "310                       1033.0  1245.763939  \n",
      "311                          0.0  1346.276220  \n",
      "\n",
      "[312 rows x 6 columns]\n"
     ]
    }
   ],
   "source": [
    "# Note above that the wage_df.shape statement says we have 312 rows. If our merge worked correctly we should also see that our new merged table has 312 rows, as well\n",
    "# as having appended the weekly_wage column\n",
    "print(imm_wage_merge_df)"
   ]
  },
  {
   "cell_type": "code",
   "execution_count": null,
   "metadata": {},
   "outputs": [],
   "source": []
  }
 ],
 "metadata": {
  "kernelspec": {
   "display_name": "dsi_participant",
   "language": "python",
   "name": "python3"
  },
  "language_info": {
   "codemirror_mode": {
    "name": "ipython",
    "version": 3
   },
   "file_extension": ".py",
   "mimetype": "text/x-python",
   "name": "python",
   "nbconvert_exporter": "python",
   "pygments_lexer": "ipython3",
   "version": "3.9.15"
  }
 },
 "nbformat": 4,
 "nbformat_minor": 2
}
